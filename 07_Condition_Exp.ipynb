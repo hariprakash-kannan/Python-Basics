{
 "cells": [
  {
   "cell_type": "markdown",
   "metadata": {},
   "source": [
    "# If conditions"
   ]
  },
  {
   "cell_type": "code",
   "execution_count": 3,
   "metadata": {},
   "outputs": [
    {
     "name": "stdout",
     "output_type": "stream",
     "text": [
      "medium\n"
     ]
    }
   ],
   "source": [
    "x = 3\n",
    "\n",
    "if x < 3:\n",
    "    print (\"smaller\")\n",
    "elif x == 3:\n",
    "    print (\"medium\")\n",
    "else:\n",
    "    print (\"bigger\")"
   ]
  },
  {
   "cell_type": "markdown",
   "metadata": {},
   "source": [
    "<     --- less than\n",
    ">     --- greater than\n",
    "<=    --- less than or equal to\n",
    ">=    --- greater than or equal to \n",
    "==    --- equal to\n",
    "!=    --- not equal to "
   ]
  },
  {
   "cell_type": "markdown",
   "metadata": {},
   "source": [
    "# try and except"
   ]
  },
  {
   "cell_type": "code",
   "execution_count": 4,
   "metadata": {},
   "outputs": [
    {
     "name": "stdout",
     "output_type": "stream",
     "text": [
      "First 0\n",
      "Second 10\n"
     ]
    }
   ],
   "source": [
    "astr = 'hello'\n",
    "\n",
    "try:\n",
    "    num = int(astr)\n",
    "except:\n",
    "    num = 0\n",
    "\n",
    "print ('First',num)\n",
    "\n",
    "astr = 10\n",
    "\n",
    "try:\n",
    "    num = int(astr)\n",
    "except:\n",
    "    num = 0\n",
    "\n",
    "print ('Second',num)"
   ]
  },
  {
   "cell_type": "markdown",
   "metadata": {},
   "source": [
    "Max function"
   ]
  },
  {
   "cell_type": "code",
   "execution_count": 5,
   "metadata": {},
   "outputs": [
    {
     "name": "stdout",
     "output_type": "stream",
     "text": [
      "r\n"
     ]
    }
   ],
   "source": [
    "big = max('Hello World')\n",
    "print(big)"
   ]
  },
  {
   "cell_type": "markdown",
   "metadata": {},
   "source": [
    "# Functions"
   ]
  },
  {
   "cell_type": "code",
   "execution_count": 6,
   "metadata": {},
   "outputs": [
    {
     "name": "stdout",
     "output_type": "stream",
     "text": [
      "Hi\n",
      "Hello World\n",
      "End\n"
     ]
    }
   ],
   "source": [
    "def things():\n",
    "    print ('Hello World')\n",
    "    \n",
    "print('Hi')\n",
    "things()\n",
    "print('End')"
   ]
  },
  {
   "cell_type": "markdown",
   "metadata": {},
   "source": [
    "Type conversion"
   ]
  },
  {
   "cell_type": "code",
   "execution_count": 7,
   "metadata": {},
   "outputs": [
    {
     "name": "stdout",
     "output_type": "stream",
     "text": [
      "0.99\n"
     ]
    }
   ],
   "source": [
    "print (float(99)/100)"
   ]
  },
  {
   "cell_type": "code",
   "execution_count": 8,
   "metadata": {},
   "outputs": [
    {
     "name": "stdout",
     "output_type": "stream",
     "text": [
      "<class 'str'>\n",
      "<class 'int'>\n"
     ]
    }
   ],
   "source": [
    "svc = '123'\n",
    "print(type(svc))\n",
    "ivc = int(svc)\n",
    "print(type(ivc))"
   ]
  },
  {
   "cell_type": "code",
   "execution_count": 10,
   "metadata": {},
   "outputs": [
    {
     "name": "stdout",
     "output_type": "stream",
     "text": [
      "English\n"
     ]
    }
   ],
   "source": [
    "def language(lang):\n",
    "    if lang == 'en':\n",
    "        return 'English'\n",
    "    elif lang == 'tm':\n",
    "        return 'Tamil'\n",
    "    else:\n",
    "        return 'Others'\n",
    "    \n",
    "print(language('en'))"
   ]
  }
 ],
 "metadata": {
  "kernelspec": {
   "display_name": "Python 3",
   "language": "python",
   "name": "python3"
  },
  "language_info": {
   "codemirror_mode": {
    "name": "ipython",
    "version": 3
   },
   "file_extension": ".py",
   "mimetype": "text/x-python",
   "name": "python",
   "nbconvert_exporter": "python",
   "pygments_lexer": "ipython3",
   "version": "3.7.4"
  }
 },
 "nbformat": 4,
 "nbformat_minor": 2
}
