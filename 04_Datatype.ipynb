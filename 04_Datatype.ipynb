{
 "cells": [
  {
   "cell_type": "markdown",
   "metadata": {},
   "source": [
    "# <font color=green>Python Data Types</font>"
   ]
  },
  {
   "cell_type": "markdown",
   "metadata": {},
   "source": [
    "## Built-in Data Types"
   ]
  },
  {
   "cell_type": "markdown",
   "metadata": {},
   "source": [
    "### Text type:"
   ]
  },
  {
   "cell_type": "markdown",
   "metadata": {},
   "source": [
    "> ***String type***"
   ]
  },
  {
   "cell_type": "code",
   "execution_count": 9,
   "metadata": {
    "scrolled": true
   },
   "outputs": [
    {
     "name": "stdout",
     "output_type": "stream",
     "text": [
      "Hello World <class 'str'>\n",
      "Welcome to Python <class 'str'>\n"
     ]
    }
   ],
   "source": [
    "#str type\n",
    "\n",
    "my_string1 = 'Hello World'\n",
    "\n",
    "my_string2 = 'Welcome to Python'\n",
    "\n",
    "print(my_string1, type(my_string1))\n",
    "print(my_string2, type(my_string2))"
   ]
  },
  {
   "cell_type": "markdown",
   "metadata": {},
   "source": [
    "### Numeric Types"
   ]
  },
  {
   "cell_type": "markdown",
   "metadata": {},
   "source": [
    "> ***Integer***\n",
    "- It can hold as many as long number"
   ]
  },
  {
   "cell_type": "code",
   "execution_count": 14,
   "metadata": {},
   "outputs": [
    {
     "name": "stdout",
     "output_type": "stream",
     "text": [
      "10 <class 'int'>\n"
     ]
    }
   ],
   "source": [
    "#int type\n",
    "#it can hold as many as long numbers from Python3\n",
    "\n",
    "my_int = 10\n",
    "\n",
    "print(my_int, type(my_int))"
   ]
  },
  {
   "cell_type": "markdown",
   "metadata": {},
   "source": [
    "> ***Float***"
   ]
  },
  {
   "cell_type": "code",
   "execution_count": 11,
   "metadata": {},
   "outputs": [
    {
     "name": "stdout",
     "output_type": "stream",
     "text": [
      "25.35 <class 'float'>\n"
     ]
    }
   ],
   "source": [
    "#float type\n",
    "\n",
    "my_float = 25.35\n",
    "\n",
    "print(my_float, type(my_float))"
   ]
  },
  {
   "cell_type": "markdown",
   "metadata": {},
   "source": [
    "> ***Complex***"
   ]
  },
  {
   "cell_type": "code",
   "execution_count": 7,
   "metadata": {},
   "outputs": [
    {
     "name": "stdout",
     "output_type": "stream",
     "text": [
      "(2+3j) <class 'complex'>\n",
      "2j <class 'complex'>\n"
     ]
    }
   ],
   "source": [
    "#complex type\n",
    "\n",
    "my_complex1 = 2 + 3j\n",
    "\n",
    "my_complex2 = 2j\n",
    "\n",
    "print(my_complex1, type(my_complex1))\n",
    "print(my_complex2, type(my_complex2))"
   ]
  },
  {
   "cell_type": "markdown",
   "metadata": {},
   "source": [
    "### Sequence Types"
   ]
  },
  {
   "cell_type": "markdown",
   "metadata": {},
   "source": [
    "> ***List***\n",
    "- A list is a collection which is ordered and changeable. In Python lists are written with square brackets.\n",
    "- Allows duplicate"
   ]
  },
  {
   "cell_type": "code",
   "execution_count": 3,
   "metadata": {},
   "outputs": [
    {
     "name": "stdout",
     "output_type": "stream",
     "text": [
      "[1, 2, 'apple', 34.56, 'banana', 'apple'] <class 'list'>\n"
     ]
    }
   ],
   "source": [
    "#list type\n",
    "#A list is a collection which is ordered and changeable. In Python lists are written with square brackets.\n",
    "\n",
    "my_list = [1,2,\"apple\",34.56,\"banana\",\"apple\"]\n",
    "\n",
    "print(my_list, type(my_list))\n",
    "\n"
   ]
  },
  {
   "cell_type": "markdown",
   "metadata": {},
   "source": [
    "> ***Accessing a List***"
   ]
  },
  {
   "cell_type": "code",
   "execution_count": 19,
   "metadata": {},
   "outputs": [
    {
     "name": "stdout",
     "output_type": "stream",
     "text": [
      "apple\n",
      "[34.56, 'banana', 'apple']\n",
      "[1, 2, 'apple']\n",
      "[2, 34.56, 'apple']\n"
     ]
    }
   ],
   "source": [
    "#access an item\n",
    "#index starts from 0, 1, 2 and so on\n",
    "\n",
    "print(my_list[2]) \n",
    "\n",
    "print(my_list[3:])\n",
    "\n",
    "print(my_list[:3])\n",
    "\n",
    "print(my_list[1:6:2]) #starting index, stopping index (it will not considered), jumping index (how many times to jumpm)"
   ]
  },
  {
   "cell_type": "markdown",
   "metadata": {},
   "source": [
    "> ***Reversing the list***"
   ]
  },
  {
   "cell_type": "code",
   "execution_count": 20,
   "metadata": {},
   "outputs": [
    {
     "name": "stdout",
     "output_type": "stream",
     "text": [
      "['apple', 'banana', 34.56, 'apple', 2, 1]\n",
      "apple\n"
     ]
    }
   ],
   "source": [
    "print (my_list[::-1])\n",
    "\n",
    "#access a last item\n",
    "\n",
    "print (my_list[-1])"
   ]
  },
  {
   "cell_type": "markdown",
   "metadata": {},
   "source": [
    "> ***enumerate list***"
   ]
  },
  {
   "cell_type": "code",
   "execution_count": 27,
   "metadata": {},
   "outputs": [
    {
     "name": "stdout",
     "output_type": "stream",
     "text": [
      "0 1\n",
      "1 2\n",
      "2 apple\n",
      "3 34.56\n",
      "4 banana\n",
      "5 pineapple\n",
      "\n",
      "\n",
      "1 1\n",
      "2 2\n",
      "3 apple\n",
      "4 34.56\n",
      "5 banana\n",
      "6 pineapple\n"
     ]
    }
   ],
   "source": [
    "for index,x in enumerate(my_list):\n",
    "    print(index,x)\n",
    "\n",
    "print('\\n')\n",
    "\n",
    "for index,x in enumerate(my_list, start=1):\n",
    "    print(index,x)"
   ]
  },
  {
   "cell_type": "markdown",
   "metadata": {},
   "source": [
    "> ***Join and Split an element in list***"
   ]
  },
  {
   "cell_type": "code",
   "execution_count": 30,
   "metadata": {},
   "outputs": [
    {
     "name": "stdout",
     "output_type": "stream",
     "text": [
      "[, 1, ,,  , 2, ,,  , ', a, p, p, l, e, ', ,,  , 3, 4, ., 5, 6, ,,  , ', b, a, n, a, n, a, ', ,,  , ', p, i, n, e, a, p, p, l, e, ', ]\n"
     ]
    }
   ],
   "source": [
    "my_list_string = ', '.join(str(my_list))\n",
    "\n",
    "print(my_list_string)"
   ]
  },
  {
   "cell_type": "markdown",
   "metadata": {},
   "source": [
    "> ***Change the value in the list***"
   ]
  },
  {
   "cell_type": "code",
   "execution_count": 21,
   "metadata": {},
   "outputs": [
    {
     "name": "stdout",
     "output_type": "stream",
     "text": [
      "before update [1, 2, 'apple', 34.56, 'banana', 'apple']\n",
      "after update [1, 2, 'apple', 34.56, 'banana', 'pineapple']\n"
     ]
    }
   ],
   "source": [
    "print ('before update', my_list)\n",
    "my_list[-1] = 'pineapple'\n",
    "\n",
    "print('after update', my_list)"
   ]
  },
  {
   "cell_type": "markdown",
   "metadata": {},
   "source": [
    "> ***Loop thru the list***"
   ]
  },
  {
   "cell_type": "code",
   "execution_count": 22,
   "metadata": {},
   "outputs": [
    {
     "name": "stdout",
     "output_type": "stream",
     "text": [
      "1\n",
      "2\n",
      "apple\n",
      "34.56\n",
      "banana\n",
      "pineapple\n"
     ]
    }
   ],
   "source": [
    "for x in my_list:\n",
    "    print(x)"
   ]
  },
  {
   "cell_type": "markdown",
   "metadata": {},
   "source": [
    "> ***Check the existance of item in the list***"
   ]
  },
  {
   "cell_type": "code",
   "execution_count": 4,
   "metadata": {},
   "outputs": [
    {
     "name": "stdout",
     "output_type": "stream",
     "text": [
      "apple is present in mylist\n"
     ]
    }
   ],
   "source": [
    "if \"apple\" in my_list:\n",
    "    print ('apple is present in mylist')"
   ]
  },
  {
   "cell_type": "markdown",
   "metadata": {},
   "source": [
    "> ***List length***"
   ]
  },
  {
   "cell_type": "code",
   "execution_count": 6,
   "metadata": {},
   "outputs": [
    {
     "name": "stdout",
     "output_type": "stream",
     "text": [
      "6\n"
     ]
    }
   ],
   "source": [
    "print(len(my_list))"
   ]
  },
  {
   "cell_type": "markdown",
   "metadata": {},
   "source": [
    "> ***Add an item in the list***"
   ]
  },
  {
   "cell_type": "code",
   "execution_count": 8,
   "metadata": {},
   "outputs": [
    {
     "name": "stdout",
     "output_type": "stream",
     "text": [
      "[1, 2, 'apple', 34.56, 'banana', 'apple', 'strawberry']\n"
     ]
    }
   ],
   "source": [
    "my_list.append('strawberry') #it appends as a last item\n",
    "\n",
    "print(my_list)"
   ]
  },
  {
   "cell_type": "markdown",
   "metadata": {},
   "source": [
    "> ***To add an item at specified index***"
   ]
  },
  {
   "cell_type": "code",
   "execution_count": 9,
   "metadata": {},
   "outputs": [
    {
     "name": "stdout",
     "output_type": "stream",
     "text": [
      "[1, 2, 34.56, 'apple', 34.56, 'banana', 'apple', 'strawberry']\n"
     ]
    }
   ],
   "source": [
    "my_list.insert(2,34.56) # insert at 2nd index\n",
    "\n",
    "print(my_list)"
   ]
  },
  {
   "cell_type": "markdown",
   "metadata": {},
   "source": [
    "> ***Remove an item in the list***"
   ]
  },
  {
   "cell_type": "code",
   "execution_count": 11,
   "metadata": {},
   "outputs": [
    {
     "name": "stdout",
     "output_type": "stream",
     "text": [
      "Before removing banana from list [1, 2, 34.56, 'apple', 34.56, 'banana', 'apple', 'strawberry']\n",
      "After removing banana from list [1, 2, 34.56, 'apple', 34.56, 'apple', 'strawberry']\n"
     ]
    }
   ],
   "source": [
    "print('Before removing banana from list', my_list)\n",
    "\n",
    "my_list.remove('banana')\n",
    "\n",
    "print('After removing banana from list', my_list)"
   ]
  },
  {
   "cell_type": "markdown",
   "metadata": {},
   "source": [
    "> ***Remove a last item or specific index item and store in another variable***"
   ]
  },
  {
   "cell_type": "code",
   "execution_count": 12,
   "metadata": {},
   "outputs": [
    {
     "name": "stdout",
     "output_type": "stream",
     "text": [
      "Before removing the last item [1, 2, 34.56, 'apple', 34.56, 'apple', 'strawberry']\n",
      "Deleted item strawberry\n",
      "After removing the last item [1, 2, 34.56, 'apple', 34.56, 'apple']\n",
      "Deleted item 34.56\n",
      "After removing the 2nd index item [1, 2, 'apple', 34.56, 'apple']\n"
     ]
    }
   ],
   "source": [
    "print ('Before removing the last item', my_list)\n",
    "del_str= my_list.pop()\n",
    "\n",
    "print ('Deleted item', del_str)\n",
    "print ('After removing the last item', my_list)\n",
    "\n",
    "#removing the 2nd index item\n",
    "\n",
    "del_str = my_list.pop(2)\n",
    "print ('Deleted item', del_str)\n",
    "print ('After removing the 2nd index item', my_list)"
   ]
  },
  {
   "cell_type": "markdown",
   "metadata": {},
   "source": [
    "> ***Delete a specified item or complete list***"
   ]
  },
  {
   "cell_type": "code",
   "execution_count": 16,
   "metadata": {},
   "outputs": [
    {
     "name": "stdout",
     "output_type": "stream",
     "text": [
      "Before 1st index item removal [1, 2, 'apple', 34.56, 'apple']\n",
      "After 1st index item removal [1, 'apple', 34.56, 'apple']\n"
     ]
    }
   ],
   "source": [
    "print('Before 1st index item removal', my_list)\n",
    "del my_list[1]\n",
    "print('After 1st index item removal', my_list)"
   ]
  },
  {
   "cell_type": "code",
   "execution_count": 17,
   "metadata": {},
   "outputs": [
    {
     "name": "stdout",
     "output_type": "stream",
     "text": [
      "Before list deletion [1, 'apple', 34.56, 'apple']\n"
     ]
    },
    {
     "ename": "NameError",
     "evalue": "name 'my_list' is not defined",
     "output_type": "error",
     "traceback": [
      "\u001b[0;31m---------------------------------------------------------------------------\u001b[0m",
      "\u001b[0;31mNameError\u001b[0m                                 Traceback (most recent call last)",
      "\u001b[0;32m<ipython-input-17-ff8ea047d09d>\u001b[0m in \u001b[0;36m<module>\u001b[0;34m\u001b[0m\n\u001b[1;32m      1\u001b[0m \u001b[0mprint\u001b[0m\u001b[0;34m(\u001b[0m\u001b[0;34m'Before list deletion'\u001b[0m\u001b[0;34m,\u001b[0m \u001b[0mmy_list\u001b[0m\u001b[0;34m)\u001b[0m\u001b[0;34m\u001b[0m\u001b[0;34m\u001b[0m\u001b[0m\n\u001b[1;32m      2\u001b[0m \u001b[0;32mdel\u001b[0m \u001b[0mmy_list\u001b[0m\u001b[0;34m\u001b[0m\u001b[0;34m\u001b[0m\u001b[0m\n\u001b[0;32m----> 3\u001b[0;31m \u001b[0mprint\u001b[0m\u001b[0;34m(\u001b[0m\u001b[0;34m'After executing del command'\u001b[0m\u001b[0;34m,\u001b[0m \u001b[0mmy_list\u001b[0m\u001b[0;34m)\u001b[0m\u001b[0;34m\u001b[0m\u001b[0;34m\u001b[0m\u001b[0m\n\u001b[0m",
      "\u001b[0;31mNameError\u001b[0m: name 'my_list' is not defined"
     ]
    }
   ],
   "source": [
    "print('Before list deletion', my_list)\n",
    "del my_list\n",
    "print('After executing del command', my_list)"
   ]
  },
  {
   "cell_type": "markdown",
   "metadata": {},
   "source": [
    "> ***Clear the list***"
   ]
  },
  {
   "cell_type": "code",
   "execution_count": 18,
   "metadata": {},
   "outputs": [
    {
     "name": "stdout",
     "output_type": "stream",
     "text": [
      "Before clearing the list [1, 2, 3]\n",
      "After clearing the list []\n"
     ]
    }
   ],
   "source": [
    "my_list = [1,2,3]\n",
    "\n",
    "print('Before clearing the list', my_list)\n",
    "\n",
    "my_list.clear()\n",
    "\n",
    "print('After clearing the list', my_list)"
   ]
  },
  {
   "cell_type": "markdown",
   "metadata": {},
   "source": [
    "> ***Copying the list***"
   ]
  },
  {
   "cell_type": "code",
   "execution_count": 21,
   "metadata": {},
   "outputs": [
    {
     "name": "stdout",
     "output_type": "stream",
     "text": [
      "my_list1  [1, 2, 3]\n",
      "my_list2  [1, 2, 3]\n",
      "After updating 0th index in my_list1  [4, 2, 3]\n",
      "my_list2  [4, 2, 3]\n"
     ]
    }
   ],
   "source": [
    "my_list1 = [1,2,3]\n",
    "\n",
    "my_list2 = my_list1 #it will just have a reference to list1\n",
    "\n",
    "print('my_list1 ', my_list1)\n",
    "print('my_list2 ', my_list2)\n",
    "\n",
    "my_list1[0] = 4\n",
    "\n",
    "print('After updating 0th index in my_list1 ', my_list1)\n",
    "print('my_list2 ', my_list2) #Changes got reflected here as well"
   ]
  },
  {
   "cell_type": "code",
   "execution_count": 22,
   "metadata": {},
   "outputs": [
    {
     "name": "stdout",
     "output_type": "stream",
     "text": [
      "my_list1  [1, 2, 3]\n",
      "my_list2  [1, 2, 3]\n",
      "After updating 0th index in my_list1  [4, 2, 3]\n",
      "my_list2  [1, 2, 3]\n"
     ]
    }
   ],
   "source": [
    "my_list1 = [1,2,3]\n",
    "\n",
    "my_list2 = my_list1.copy() #it will have a actual copy of list1\n",
    "\n",
    "print('my_list1 ', my_list1)\n",
    "print('my_list2 ', my_list2)\n",
    "\n",
    "my_list1[0] = 4\n",
    "\n",
    "print('After updating 0th index in my_list1 ', my_list1)\n",
    "print('my_list2 ', my_list2) #Changes will not affect here"
   ]
  },
  {
   "cell_type": "code",
   "execution_count": 23,
   "metadata": {},
   "outputs": [
    {
     "name": "stdout",
     "output_type": "stream",
     "text": [
      "my_list1  [1, 2, 3]\n",
      "my_list2  [1, 2, 3]\n",
      "After updating 0th index in my_list1  [4, 2, 3]\n",
      "my_list2  [1, 2, 3]\n"
     ]
    }
   ],
   "source": [
    "#another way of copying the list\n",
    "\n",
    "my_list1 = [1,2,3]\n",
    "\n",
    "my_list2 = list(my_list1) #it will have a actual copy of list1\n",
    "\n",
    "print('my_list1 ', my_list1)\n",
    "print('my_list2 ', my_list2)\n",
    "\n",
    "my_list1[0] = 4\n",
    "\n",
    "print('After updating 0th index in my_list1 ', my_list1)\n",
    "print('my_list2 ', my_list2) #Changes will not affect here"
   ]
  },
  {
   "cell_type": "markdown",
   "metadata": {},
   "source": [
    "> ***Join two list***"
   ]
  },
  {
   "cell_type": "code",
   "execution_count": 24,
   "metadata": {},
   "outputs": [
    {
     "name": "stdout",
     "output_type": "stream",
     "text": [
      "['a', 'b', 'c', 1, 2, 3]\n"
     ]
    }
   ],
   "source": [
    "#option-1\n",
    "list1 = [\"a\", \"b\" , \"c\"]\n",
    "list2 = [1, 2, 3]\n",
    "\n",
    "list3 = list1 + list2\n",
    "print(list3)"
   ]
  },
  {
   "cell_type": "code",
   "execution_count": 25,
   "metadata": {},
   "outputs": [
    {
     "name": "stdout",
     "output_type": "stream",
     "text": [
      "['a', 'b', 'c', 1, 2, 3]\n"
     ]
    }
   ],
   "source": [
    "#option-2\n",
    "\n",
    "list1 = [\"a\", \"b\" , \"c\"]\n",
    "list2 = [1, 2, 3]\n",
    "\n",
    "for x in list2:\n",
    "    list1.append(x)\n",
    "\n",
    "print(list1)"
   ]
  },
  {
   "cell_type": "code",
   "execution_count": 26,
   "metadata": {},
   "outputs": [
    {
     "name": "stdout",
     "output_type": "stream",
     "text": [
      "['a', 'b', 'c', 1, 2, 3]\n"
     ]
    }
   ],
   "source": [
    "#option-3\n",
    "\n",
    "list1 = [\"a\", \"b\" , \"c\"]\n",
    "list2 = [1, 2, 3]\n",
    "\n",
    "list1.extend(list2)\n",
    "print(list1)"
   ]
  },
  {
   "cell_type": "markdown",
   "metadata": {},
   "source": [
    "> ***List constructor***"
   ]
  },
  {
   "cell_type": "code",
   "execution_count": 27,
   "metadata": {},
   "outputs": [
    {
     "name": "stdout",
     "output_type": "stream",
     "text": [
      "[1, 2, 3, 4] <class 'list'>\n"
     ]
    }
   ],
   "source": [
    "list1 = list((1,2,3,4)) # note the double round-brackets\n",
    "\n",
    "print(list1,type(list1))"
   ]
  },
  {
   "cell_type": "markdown",
   "metadata": {},
   "source": [
    "> ***Count the no. of item in the list***"
   ]
  },
  {
   "cell_type": "code",
   "execution_count": 30,
   "metadata": {},
   "outputs": [
    {
     "name": "stdout",
     "output_type": "stream",
     "text": [
      "the no. of occurences of apple is  3\n"
     ]
    }
   ],
   "source": [
    "list1 = ['apple','banana','apple','strawberry','apple']\n",
    "\n",
    "count1 = list1.count('apple')\n",
    "\n",
    "print('the no. of occurences of apple is ',count1)"
   ]
  },
  {
   "cell_type": "markdown",
   "metadata": {},
   "source": [
    "> ***reverse the list***"
   ]
  },
  {
   "cell_type": "code",
   "execution_count": 31,
   "metadata": {},
   "outputs": [
    {
     "name": "stdout",
     "output_type": "stream",
     "text": [
      "[5, 4, 3, 2, 1]\n"
     ]
    }
   ],
   "source": [
    "list1 = [1,2,3,4,5]\n",
    "\n",
    "list1.reverse()\n",
    "\n",
    "print(list1)"
   ]
  },
  {
   "cell_type": "markdown",
   "metadata": {},
   "source": [
    "> ***sort the list***"
   ]
  },
  {
   "cell_type": "code",
   "execution_count": 36,
   "metadata": {},
   "outputs": [
    {
     "name": "stdout",
     "output_type": "stream",
     "text": [
      "[1, 2, 3, 4, 5]\n",
      "[5, 4, 3, 2, 1]\n"
     ]
    }
   ],
   "source": [
    "list1 = [1,3,2,5,4]\n",
    "\n",
    "list1.sort() #ascending order\n",
    "\n",
    "print(list1)\n",
    "\n",
    "list1.sort(reverse=True)\n",
    "\n",
    "print(list1) #descending order"
   ]
  },
  {
   "cell_type": "code",
   "execution_count": 35,
   "metadata": {},
   "outputs": [
    {
     "name": "stdout",
     "output_type": "stream",
     "text": [
      "[1, 2, 3, 4, 5]\n",
      "[1, 3, 2, 5, 4]\n"
     ]
    }
   ],
   "source": [
    "list1 = [1,3,2,5,4]\n",
    "\n",
    "print(sorted(list1))\n",
    "\n",
    "print(list1)"
   ]
  },
  {
   "cell_type": "code",
   "execution_count": 40,
   "metadata": {},
   "outputs": [
    {
     "name": "stdout",
     "output_type": "stream",
     "text": [
      "['Mitsubishi', 'Ford', 'BMW', 'VW']\n"
     ]
    }
   ],
   "source": [
    "# A function that returns the length of the value:\n",
    "def myFunc(e):\n",
    "    return len(e)\n",
    "\n",
    "cars = ['Ford', 'Mitsubishi', 'BMW', 'VW']\n",
    "\n",
    "cars.sort(reverse=True,key=myFunc) #ascending order by value length\n",
    "\n",
    "print(cars)"
   ]
  },
  {
   "cell_type": "code",
   "execution_count": 41,
   "metadata": {},
   "outputs": [
    {
     "name": "stdout",
     "output_type": "stream",
     "text": [
      "[{'car': 'Mitsubishi', 'year': 2000}, {'car': 'Ford', 'year': 2005}, {'car': 'VW', 'year': 2011}, {'car': 'BMW', 'year': 2019}]\n"
     ]
    }
   ],
   "source": [
    "def myFunc(e):\n",
    "    return e['year']\n",
    "\n",
    "cars = [\n",
    "  {'car': 'Ford', 'year': 2005},\n",
    "  {'car': 'Mitsubishi', 'year': 2000},\n",
    "  {'car': 'BMW', 'year': 2019},\n",
    "  {'car': 'VW', 'year': 2011}\n",
    "]\n",
    "\n",
    "cars.sort(key=myFunc)\n",
    "\n",
    "print(cars)"
   ]
  },
  {
   "cell_type": "code",
   "execution_count": null,
   "metadata": {},
   "outputs": [],
   "source": []
  }
 ],
 "metadata": {
  "kernelspec": {
   "display_name": "Python 3",
   "language": "python",
   "name": "python3"
  },
  "language_info": {
   "codemirror_mode": {
    "name": "ipython",
    "version": 3
   },
   "file_extension": ".py",
   "mimetype": "text/x-python",
   "name": "python",
   "nbconvert_exporter": "python",
   "pygments_lexer": "ipython3",
   "version": "3.6.8"
  },
  "toc": {
   "base_numbering": 1,
   "nav_menu": {},
   "number_sections": true,
   "sideBar": true,
   "skip_h1_title": false,
   "title_cell": "Table of Contents",
   "title_sidebar": "Contents",
   "toc_cell": false,
   "toc_position": {},
   "toc_section_display": true,
   "toc_window_display": false
  }
 },
 "nbformat": 4,
 "nbformat_minor": 2
}
