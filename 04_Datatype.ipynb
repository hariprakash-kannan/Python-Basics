{
 "cells": [
  {
   "cell_type": "markdown",
   "metadata": {},
   "source": [
    "# <font color=green>Python Data Types</font>"
   ]
  },
  {
   "cell_type": "markdown",
   "metadata": {},
   "source": [
    "## Built-in Data Types"
   ]
  },
  {
   "cell_type": "markdown",
   "metadata": {},
   "source": [
    "### Text type:"
   ]
  },
  {
   "cell_type": "markdown",
   "metadata": {},
   "source": [
    "> ***String type***"
   ]
  },
  {
   "cell_type": "code",
   "execution_count": 9,
   "metadata": {
    "scrolled": true
   },
   "outputs": [
    {
     "name": "stdout",
     "output_type": "stream",
     "text": [
      "Hello World <class 'str'>\n",
      "Welcome to Python <class 'str'>\n"
     ]
    }
   ],
   "source": [
    "#str type\n",
    "\n",
    "my_string1 = 'Hello World'\n",
    "\n",
    "my_string2 = 'Welcome to Python'\n",
    "\n",
    "print(my_string1, type(my_string1))\n",
    "print(my_string2, type(my_string2))"
   ]
  },
  {
   "cell_type": "markdown",
   "metadata": {},
   "source": [
    "### Numeric Types"
   ]
  },
  {
   "cell_type": "markdown",
   "metadata": {},
   "source": [
    "> ***Integer***\n",
    "- It can hold as many as long number"
   ]
  },
  {
   "cell_type": "code",
   "execution_count": 14,
   "metadata": {},
   "outputs": [
    {
     "name": "stdout",
     "output_type": "stream",
     "text": [
      "10 <class 'int'>\n"
     ]
    }
   ],
   "source": [
    "#int type\n",
    "#it can hold as many as long numbers from Python3\n",
    "\n",
    "my_int = 10\n",
    "\n",
    "print(my_int, type(my_int))"
   ]
  },
  {
   "cell_type": "markdown",
   "metadata": {},
   "source": [
    "> ***Float***"
   ]
  },
  {
   "cell_type": "code",
   "execution_count": 11,
   "metadata": {},
   "outputs": [
    {
     "name": "stdout",
     "output_type": "stream",
     "text": [
      "25.35 <class 'float'>\n"
     ]
    }
   ],
   "source": [
    "#float type\n",
    "\n",
    "my_float = 25.35\n",
    "\n",
    "print(my_float, type(my_float))"
   ]
  },
  {
   "cell_type": "markdown",
   "metadata": {},
   "source": [
    "> ***Complex***"
   ]
  },
  {
   "cell_type": "code",
   "execution_count": 7,
   "metadata": {},
   "outputs": [
    {
     "name": "stdout",
     "output_type": "stream",
     "text": [
      "(2+3j) <class 'complex'>\n",
      "2j <class 'complex'>\n"
     ]
    }
   ],
   "source": [
    "#complex type\n",
    "\n",
    "my_complex1 = 2 + 3j\n",
    "\n",
    "my_complex2 = 2j\n",
    "\n",
    "print(my_complex1, type(my_complex1))\n",
    "print(my_complex2, type(my_complex2))"
   ]
  },
  {
   "cell_type": "markdown",
   "metadata": {},
   "source": [
    "### Sequence Types"
   ]
  },
  {
   "cell_type": "markdown",
   "metadata": {},
   "source": [
    "> ***List***\n",
    "- A list is a collection which is ordered and changeable. In Python lists are written with square brackets.\n",
    "- Allows duplicate"
   ]
  },
  {
   "cell_type": "code",
   "execution_count": 18,
   "metadata": {},
   "outputs": [
    {
     "name": "stdout",
     "output_type": "stream",
     "text": [
      "[1, 2, 'apple', 34.56, 'banana', 'apple'] <class 'list'>\n"
     ]
    }
   ],
   "source": [
    "#list type\n",
    "#A list is a collection which is ordered and changeable. In Python lists are written with square brackets.\n",
    "\n",
    "my_list = [1,2,\"apple\",34.56,\"banana\",\"apple\"]\n",
    "\n",
    "print(my_list, type(my_list))\n",
    "\n"
   ]
  },
  {
   "cell_type": "markdown",
   "metadata": {},
   "source": [
    "> ***Accessing a List***"
   ]
  },
  {
   "cell_type": "code",
   "execution_count": 19,
   "metadata": {},
   "outputs": [
    {
     "name": "stdout",
     "output_type": "stream",
     "text": [
      "apple\n",
      "[34.56, 'banana', 'apple']\n",
      "[1, 2, 'apple']\n",
      "[2, 34.56, 'apple']\n"
     ]
    }
   ],
   "source": [
    "#access an item\n",
    "#index starts from 0, 1, 2 and so on\n",
    "\n",
    "print(my_list[2]) \n",
    "\n",
    "print(my_list[3:])\n",
    "\n",
    "print(my_list[:3])\n",
    "\n",
    "print(my_list[1:6:2]) #starting index, stopping index (it will not considered), jumping index (how many times to jumpm)"
   ]
  },
  {
   "cell_type": "markdown",
   "metadata": {},
   "source": [
    "> ***Reversing the list***"
   ]
  },
  {
   "cell_type": "code",
   "execution_count": 20,
   "metadata": {},
   "outputs": [
    {
     "name": "stdout",
     "output_type": "stream",
     "text": [
      "['apple', 'banana', 34.56, 'apple', 2, 1]\n",
      "apple\n"
     ]
    }
   ],
   "source": [
    "print (my_list[::-1])\n",
    "\n",
    "#access a last item\n",
    "\n",
    "print (my_list[-1])"
   ]
  },
  {
   "cell_type": "markdown",
   "metadata": {},
   "source": [
    "> ***enumerate list***"
   ]
  },
  {
   "cell_type": "code",
   "execution_count": 27,
   "metadata": {},
   "outputs": [
    {
     "name": "stdout",
     "output_type": "stream",
     "text": [
      "0 1\n",
      "1 2\n",
      "2 apple\n",
      "3 34.56\n",
      "4 banana\n",
      "5 pineapple\n",
      "\n",
      "\n",
      "1 1\n",
      "2 2\n",
      "3 apple\n",
      "4 34.56\n",
      "5 banana\n",
      "6 pineapple\n"
     ]
    }
   ],
   "source": [
    "for index,x in enumerate(my_list):\n",
    "    print(index,x)\n",
    "\n",
    "print('\\n')\n",
    "\n",
    "for index,x in enumerate(my_list, start=1):\n",
    "    print(index,x)"
   ]
  },
  {
   "cell_type": "markdown",
   "metadata": {},
   "source": [
    "> ***Join and Split an element in list***"
   ]
  },
  {
   "cell_type": "code",
   "execution_count": 30,
   "metadata": {},
   "outputs": [
    {
     "name": "stdout",
     "output_type": "stream",
     "text": [
      "[, 1, ,,  , 2, ,,  , ', a, p, p, l, e, ', ,,  , 3, 4, ., 5, 6, ,,  , ', b, a, n, a, n, a, ', ,,  , ', p, i, n, e, a, p, p, l, e, ', ]\n"
     ]
    }
   ],
   "source": [
    "my_list_string = ', '.join(str(my_list))\n",
    "\n",
    "print(my_list_string)"
   ]
  },
  {
   "cell_type": "markdown",
   "metadata": {},
   "source": [
    "> ***Change the value in the list***"
   ]
  },
  {
   "cell_type": "code",
   "execution_count": 21,
   "metadata": {},
   "outputs": [
    {
     "name": "stdout",
     "output_type": "stream",
     "text": [
      "before update [1, 2, 'apple', 34.56, 'banana', 'apple']\n",
      "after update [1, 2, 'apple', 34.56, 'banana', 'pineapple']\n"
     ]
    }
   ],
   "source": [
    "print ('before update', my_list)\n",
    "my_list[-1] = 'pineapple'\n",
    "\n",
    "print('after update', my_list)"
   ]
  },
  {
   "cell_type": "markdown",
   "metadata": {},
   "source": [
    "> ***Loop thru the list***"
   ]
  },
  {
   "cell_type": "code",
   "execution_count": 22,
   "metadata": {},
   "outputs": [
    {
     "name": "stdout",
     "output_type": "stream",
     "text": [
      "1\n",
      "2\n",
      "apple\n",
      "34.56\n",
      "banana\n",
      "pineapple\n"
     ]
    }
   ],
   "source": [
    "for x in my_list:\n",
    "    print(x)"
   ]
  },
  {
   "cell_type": "markdown",
   "metadata": {},
   "source": []
  }
 ],
 "metadata": {
  "kernelspec": {
   "display_name": "Python 3",
   "language": "python",
   "name": "python3"
  },
  "language_info": {
   "codemirror_mode": {
    "name": "ipython",
    "version": 3
   },
   "file_extension": ".py",
   "mimetype": "text/x-python",
   "name": "python",
   "nbconvert_exporter": "python",
   "pygments_lexer": "ipython3",
   "version": "3.6.8"
  },
  "toc": {
   "base_numbering": 1,
   "nav_menu": {},
   "number_sections": true,
   "sideBar": true,
   "skip_h1_title": false,
   "title_cell": "Table of Contents",
   "title_sidebar": "Contents",
   "toc_cell": false,
   "toc_position": {},
   "toc_section_display": true,
   "toc_window_display": false
  }
 },
 "nbformat": 4,
 "nbformat_minor": 2
}
